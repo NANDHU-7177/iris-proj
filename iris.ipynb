{
  "nbformat": 4,
  "nbformat_minor": 0,
  "metadata": {
    "colab": {
      "provenance": [],
      "authorship_tag": "ABX9TyON+FGQZEnFcKZkXuPjT5NL",
      "include_colab_link": true
    },
    "kernelspec": {
      "name": "python3",
      "display_name": "Python 3"
    },
    "language_info": {
      "name": "python"
    }
  },
  "cells": [
    {
      "cell_type": "markdown",
      "metadata": {
        "id": "view-in-github",
        "colab_type": "text"
      },
      "source": [
        "<a href=\"https://colab.research.google.com/github/NANDHU-7177/iris-proj/blob/main/iris.ipynb\" target=\"_parent\"><img src=\"https://colab.research.google.com/assets/colab-badge.svg\" alt=\"Open In Colab\"/></a>"
      ]
    },
    {
      "cell_type": "code",
      "execution_count": 1,
      "metadata": {
        "colab": {
          "base_uri": "https://localhost:8080/"
        },
        "id": "fbupOSVFZPiJ",
        "outputId": "167dba84-eeb0-45cc-8081-3e46bfe8708f"
      },
      "outputs": [
        {
          "output_type": "stream",
          "name": "stdout",
          "text": [
            "Epoch 1/50\n",
            "8/8 [==============================] - 2s 5ms/step - loss: 1.9238 - accuracy: 0.0500\n",
            "Epoch 2/50\n",
            "8/8 [==============================] - 0s 4ms/step - loss: 1.8657 - accuracy: 0.0667\n",
            "Epoch 3/50\n",
            "8/8 [==============================] - 0s 11ms/step - loss: 1.8143 - accuracy: 0.0833\n",
            "Epoch 4/50\n",
            "8/8 [==============================] - 0s 5ms/step - loss: 1.7622 - accuracy: 0.0917\n",
            "Epoch 5/50\n",
            "8/8 [==============================] - 0s 4ms/step - loss: 1.7161 - accuracy: 0.1000\n",
            "Epoch 6/50\n",
            "8/8 [==============================] - 0s 4ms/step - loss: 1.6696 - accuracy: 0.1000\n",
            "Epoch 7/50\n",
            "8/8 [==============================] - 0s 4ms/step - loss: 1.6290 - accuracy: 0.1000\n",
            "Epoch 8/50\n",
            "8/8 [==============================] - 0s 11ms/step - loss: 1.5881 - accuracy: 0.1250\n",
            "Epoch 9/50\n",
            "8/8 [==============================] - 0s 9ms/step - loss: 1.5505 - accuracy: 0.1583\n",
            "Epoch 10/50\n",
            "8/8 [==============================] - 0s 11ms/step - loss: 1.5138 - accuracy: 0.1917\n",
            "Epoch 11/50\n",
            "8/8 [==============================] - 0s 5ms/step - loss: 1.4768 - accuracy: 0.2250\n",
            "Epoch 12/50\n",
            "8/8 [==============================] - 0s 5ms/step - loss: 1.4422 - accuracy: 0.2583\n",
            "Epoch 13/50\n",
            "8/8 [==============================] - 0s 6ms/step - loss: 1.4081 - accuracy: 0.3167\n",
            "Epoch 14/50\n",
            "8/8 [==============================] - 0s 4ms/step - loss: 1.3762 - accuracy: 0.3333\n",
            "Epoch 15/50\n",
            "8/8 [==============================] - 0s 4ms/step - loss: 1.3450 - accuracy: 0.3167\n",
            "Epoch 16/50\n",
            "8/8 [==============================] - 0s 4ms/step - loss: 1.3139 - accuracy: 0.3333\n",
            "Epoch 17/50\n",
            "8/8 [==============================] - 0s 4ms/step - loss: 1.2847 - accuracy: 0.3583\n",
            "Epoch 18/50\n",
            "8/8 [==============================] - 0s 4ms/step - loss: 1.2561 - accuracy: 0.3750\n",
            "Epoch 19/50\n",
            "8/8 [==============================] - 0s 4ms/step - loss: 1.2269 - accuracy: 0.3917\n",
            "Epoch 20/50\n",
            "8/8 [==============================] - 0s 4ms/step - loss: 1.1978 - accuracy: 0.4083\n",
            "Epoch 21/50\n",
            "8/8 [==============================] - 0s 5ms/step - loss: 1.1712 - accuracy: 0.4000\n",
            "Epoch 22/50\n",
            "8/8 [==============================] - 0s 4ms/step - loss: 1.1422 - accuracy: 0.4000\n",
            "Epoch 23/50\n",
            "8/8 [==============================] - 0s 4ms/step - loss: 1.1147 - accuracy: 0.4000\n",
            "Epoch 24/50\n",
            "8/8 [==============================] - 0s 4ms/step - loss: 1.0867 - accuracy: 0.4083\n",
            "Epoch 25/50\n",
            "8/8 [==============================] - 0s 4ms/step - loss: 1.0587 - accuracy: 0.4250\n",
            "Epoch 26/50\n",
            "8/8 [==============================] - 0s 6ms/step - loss: 1.0316 - accuracy: 0.4250\n",
            "Epoch 27/50\n",
            "8/8 [==============================] - 0s 6ms/step - loss: 1.0038 - accuracy: 0.4417\n",
            "Epoch 28/50\n",
            "8/8 [==============================] - 0s 9ms/step - loss: 0.9757 - accuracy: 0.4583\n",
            "Epoch 29/50\n",
            "8/8 [==============================] - 0s 4ms/step - loss: 0.9494 - accuracy: 0.5583\n",
            "Epoch 30/50\n",
            "8/8 [==============================] - 0s 5ms/step - loss: 0.9218 - accuracy: 0.6167\n",
            "Epoch 31/50\n",
            "8/8 [==============================] - 0s 20ms/step - loss: 0.8953 - accuracy: 0.6833\n",
            "Epoch 32/50\n",
            "8/8 [==============================] - 0s 16ms/step - loss: 0.8700 - accuracy: 0.7167\n",
            "Epoch 33/50\n",
            "8/8 [==============================] - 0s 14ms/step - loss: 0.8434 - accuracy: 0.7500\n",
            "Epoch 34/50\n",
            "8/8 [==============================] - 0s 11ms/step - loss: 0.8187 - accuracy: 0.7667\n",
            "Epoch 35/50\n",
            "8/8 [==============================] - 0s 9ms/step - loss: 0.7941 - accuracy: 0.7833\n",
            "Epoch 36/50\n",
            "8/8 [==============================] - 0s 6ms/step - loss: 0.7703 - accuracy: 0.7833\n",
            "Epoch 37/50\n",
            "8/8 [==============================] - 0s 6ms/step - loss: 0.7475 - accuracy: 0.8083\n",
            "Epoch 38/50\n",
            "8/8 [==============================] - 0s 19ms/step - loss: 0.7251 - accuracy: 0.8333\n",
            "Epoch 39/50\n",
            "8/8 [==============================] - 0s 15ms/step - loss: 0.7036 - accuracy: 0.8333\n",
            "Epoch 40/50\n",
            "8/8 [==============================] - 0s 5ms/step - loss: 0.6829 - accuracy: 0.8333\n",
            "Epoch 41/50\n",
            "8/8 [==============================] - 0s 3ms/step - loss: 0.6637 - accuracy: 0.8333\n",
            "Epoch 42/50\n",
            "8/8 [==============================] - 0s 5ms/step - loss: 0.6444 - accuracy: 0.8417\n",
            "Epoch 43/50\n",
            "8/8 [==============================] - 0s 6ms/step - loss: 0.6260 - accuracy: 0.8333\n",
            "Epoch 44/50\n",
            "8/8 [==============================] - 0s 3ms/step - loss: 0.6095 - accuracy: 0.8333\n",
            "Epoch 45/50\n",
            "8/8 [==============================] - 0s 4ms/step - loss: 0.5926 - accuracy: 0.8333\n",
            "Epoch 46/50\n",
            "8/8 [==============================] - 0s 5ms/step - loss: 0.5766 - accuracy: 0.8417\n",
            "Epoch 47/50\n",
            "8/8 [==============================] - 0s 4ms/step - loss: 0.5620 - accuracy: 0.8583\n",
            "Epoch 48/50\n",
            "8/8 [==============================] - 0s 10ms/step - loss: 0.5483 - accuracy: 0.8667\n",
            "Epoch 49/50\n",
            "8/8 [==============================] - 0s 4ms/step - loss: 0.5345 - accuracy: 0.8750\n",
            "Epoch 50/50\n",
            "8/8 [==============================] - 0s 4ms/step - loss: 0.5218 - accuracy: 0.8750\n"
          ]
        },
        {
          "output_type": "stream",
          "name": "stderr",
          "text": [
            "/usr/local/lib/python3.10/dist-packages/keras/src/engine/training.py:3103: UserWarning: You are saving your model as an HDF5 file via `model.save()`. This file format is considered legacy. We recommend using instead the native Keras format, e.g. `model.save('my_model.keras')`.\n",
            "  saving_api.save_model(\n"
          ]
        }
      ],
      "source": [
        "import numpy as np\n",
        "from sklearn.datasets import load_iris\n",
        "from sklearn.model_selection import train_test_split\n",
        "from sklearn.preprocessing import StandardScaler\n",
        "import tensorflow as tf\n",
        "\n",
        "iris = load_iris()\n",
        "X = iris.data\n",
        "y = iris.target\n",
        "\n",
        "X_train, X_test, y_train, y_test = train_test_split(X, y, test_size=0.2, random_state=42)\n",
        "\n",
        "scaler = StandardScaler()\n",
        "X_train_scaled = scaler.fit_transform(X_train)\n",
        "X_test_scaled = scaler.transform(X_test)\n",
        "\n",
        "model = tf.keras.Sequential([\n",
        "    tf.keras.layers.Input(shape=(4,)),\n",
        "    tf.keras.layers.Dense(10, activation='relu'),\n",
        "    tf.keras.layers.Dense(3, activation='softmax')\n",
        "])\n",
        "\n",
        "model.compile(optimizer='adam',\n",
        "              loss='sparse_categorical_crossentropy',\n",
        "              metrics=['accuracy'])\n",
        "\n",
        "model.fit(X_train_scaled, y_train, epochs=50, batch_size=16, verbose=1)\n",
        "\n",
        "model.save('iris_model.h5')"
      ]
    },
    {
      "cell_type": "code",
      "source": [
        "loaded_model = tf.keras.models.load_model('/content/iris_model.h5')\n",
        "\n",
        "new_data = np.array([[3,3,3,3]])\n",
        "new_data_scaled = scaler.transform(new_data)\n",
        "predictions = loaded_model.predict(new_data_scaled)\n",
        "predicted_class = np.argmax(predictions)\n",
        "\n",
        "species_mapping = {0: 'setosa', 1: 'versicolor', 2: 'virginica'}\n",
        "predicted_species = species_mapping[predicted_class]\n",
        "print(f'Predicted Species: {predicted_species}')"
      ],
      "metadata": {
        "colab": {
          "base_uri": "https://localhost:8080/"
        },
        "id": "oI1XmNqZeztE",
        "outputId": "4dda10e7-ac76-44bf-c48a-130951a53464"
      },
      "execution_count": 2,
      "outputs": [
        {
          "output_type": "stream",
          "name": "stdout",
          "text": [
            "1/1 [==============================] - 0s 121ms/step\n",
            "Predicted Species: virginica\n"
          ]
        }
      ]
    }
  ]
}